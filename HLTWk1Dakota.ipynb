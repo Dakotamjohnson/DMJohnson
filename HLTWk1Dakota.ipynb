{
 "cells": [
  {
   "cell_type": "code",
   "execution_count": 124,
   "metadata": {
    "dotnet_interactive": {
     "language": "csharp"
    }
   },
   "outputs": [
    {
     "name": "stdout",
     "output_type": "stream",
     "text": [
      "hello Work\n"
     ]
    }
   ],
   "source": [
    "print (\"hello Work\")"
   ]
  },
  {
   "cell_type": "code",
   "execution_count": 125,
   "metadata": {},
   "outputs": [
    {
     "name": "stdout",
     "output_type": "stream",
     "text": [
      "Nope, try again\n"
     ]
    }
   ],
   "source": [
    "#Task 1\r\n",
    "import random\r\n",
    "dd = random.randint(1,10)\r\n",
    "user_input_num =int(input(\"Guess a number between 1-10\"))\r\n",
    "if (dd == user_input_num):\r\n",
    "    print (\"YAY You Guessed Correctly \")\r\n",
    "else:\r\n",
    "    print (\"Nope, try again\")"
   ]
  },
  {
   "cell_type": "code",
   "execution_count": 126,
   "metadata": {},
   "outputs": [
    {
     "name": "stdout",
     "output_type": "stream",
     "text": [
      "Why is six scared of seven? Because seven, eight, nine\n"
     ]
    }
   ],
   "source": [
    "#Task 2\r\n",
    "user_input_fav_num = int(input(\"What is your favourite number between 1-100?\"))\r\n",
    "if(user_input_fav_num == 6):\r\n",
    "    print (\"Why is six scared of seven? Because seven, eight, nine\")\r\n",
    "elif (user_input_fav_num == 36 ):\r\n",
    "    print(\"There are 36 sheep. Why did the shepherd count 40? He rounded them up.\")\r\n",
    "elif (user_input_fav_num == 10 ):\r\n",
    "    print (\"What are the ten things that can always be count on? Our fingers.\")\r\n",
    "else:\r\n",
    "    print(\"Pick 6, 36, or 10 for a Joke\")"
   ]
  },
  {
   "cell_type": "code",
   "execution_count": 127,
   "metadata": {},
   "outputs": [
    {
     "name": "stdout",
     "output_type": "stream",
     "text": [
      "Your favourite meal is fe,  ere,  sdfsd with a glass of frr\n"
     ]
    }
   ],
   "source": [
    "#Task 3\r\n",
    "User_Input_Starter = str(input(\"Pick a starter for a meal\"))\r\n",
    "user_input_main = str(input(\"Pick a main for you meal\"))\r\n",
    "user_input_desert= str(input(\"Pick a desert\"))\r\n",
    "user_input_drink = str (input(\"Pick a Drink to go with your meal\"))\r\n",
    "print (\"Your favourite meal is\", User_Input_Starter +\", \", user_input_main + \", \", user_input_desert + \" \" \"with a glass of\" , user_input_drink)"
   ]
  },
  {
   "cell_type": "code",
   "execution_count": 128,
   "metadata": {},
   "outputs": [
    {
     "name": "stdout",
     "output_type": "stream",
     "text": [
      "£ 1800.0\n",
      "£ 1620.0\n",
      "£ 1458.0\n",
      "£ 1312.2\n",
      "£ 1180.98\n",
      "£ 1062.88\n",
      "£ 956.59\n"
     ]
    }
   ],
   "source": [
    "# TASK 4\r\n",
    "cost = 2000 \r\n",
    "while cost >= 1000:\r\n",
    "  cost = cost - (0.1 * cost)\r\n",
    "  print(\"£\",round(cost,2))\r\n",
    "   "
   ]
  },
  {
   "cell_type": "code",
   "execution_count": 129,
   "metadata": {},
   "outputs": [
    {
     "name": "stdout",
     "output_type": "stream",
     "text": [
      "please make sure you check your spelling and cases, and make sure you have picked one of the options\n"
     ]
    }
   ],
   "source": [
    "#Task 5\r\n",
    "user_input_num1 =int(input(\"Pick a number\"))\r\n",
    "user_input_num2 =int(input(\"Pick another number\"))\r\n",
    "user_input_operator = str(input(\"what would you like to do with these numbers? add, subtract, divide, multiply (Case sensative)\"))\r\n",
    "if user_input_operator == str(\"add\"):\r\n",
    "    print(user_input_num1,\"+\", user_input_num2, \"=\", user_input_num1 + user_input_num2 )\r\n",
    "elif user_input_operator == str(\"subtract\"):\r\n",
    "    print(user_input_num1,\"-\", user_input_num2, \"=\", user_input_num1 - user_input_num2 )\r\n",
    "elif user_input_operator == str(\"divide\"):\r\n",
    "    print(user_input_num1,\"/\", user_input_num2, \"=\", user_input_num1 / user_input_num2 )\r\n",
    "elif user_input_operator == str(\"multiply \"):\r\n",
    "    print(user_input_num1,\"*\", user_input_num2, \"=\", user_input_num1 * user_input_num2 )\r\n",
    "else :\r\n",
    "    print(\"please make sure you check your spelling and cases, and make sure you have picked one of the options\")"
   ]
  },
  {
   "cell_type": "code",
   "execution_count": null,
   "metadata": {},
   "outputs": [],
   "source": []
  }
 ],
 "metadata": {
  "interpreter": {
   "hash": "7ba9343bb3d3d10ab8b3c68195b43076d7ec80148804293f5c4cbf904ded1e5c"
  },
  "kernelspec": {
   "display_name": "Python 3.9.5 64-bit",
   "name": "python3"
  },
  "language_info": {
   "codemirror_mode": {
    "name": "ipython",
    "version": 3
   },
   "file_extension": ".py",
   "mimetype": "text/x-python",
   "name": "python",
   "nbconvert_exporter": "python",
   "pygments_lexer": "ipython3",
   "version": "3.9.5"
  },
  "orig_nbformat": 4
 },
 "nbformat": 4,
 "nbformat_minor": 2
}