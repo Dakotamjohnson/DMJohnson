{
 "cells": [
  {
   "cell_type": "code",
   "execution_count": 10,
   "metadata": {},
   "outputs": [
    {
     "name": "stdout",
     "output_type": "stream",
     "text": [
      "treat how you see fit\n"
     ]
    },
    {
     "ename": "KeyboardInterrupt",
     "evalue": "Interrupted by user",
     "output_type": "error",
     "traceback": [
      "\u001b[1;31m---------------------------------------------------------------------------\u001b[0m",
      "\u001b[1;31mKeyboardInterrupt\u001b[0m                         Traceback (most recent call last)",
      "\u001b[1;32m<ipython-input-10-26d0ce9a715b>\u001b[0m in \u001b[0;36m<module>\u001b[1;34m\u001b[0m\n\u001b[0;32m      6\u001b[0m             \u001b[0musercheck3\u001b[0m \u001b[1;33m=\u001b[0m \u001b[0minput\u001b[0m \u001b[1;33m(\u001b[0m\u001b[1;34m\"Check for repsonce- (AVPU)\"\u001b[0m\u001b[1;33m)\u001b[0m\u001b[1;33m\u001b[0m\u001b[1;33m\u001b[0m\u001b[0m\n\u001b[0;32m      7\u001b[0m             \u001b[1;32mwhile\u001b[0m \u001b[0musercheck3\u001b[0m \u001b[1;33m==\u001b[0m \u001b[1;34m\"u\"\u001b[0m\u001b[1;33m:\u001b[0m\u001b[1;33m\u001b[0m\u001b[1;33m\u001b[0m\u001b[0m\n\u001b[1;32m----> 8\u001b[1;33m                 \u001b[0musercheck4\u001b[0m \u001b[1;33m=\u001b[0m \u001b[0minput\u001b[0m \u001b[1;33m(\u001b[0m\u001b[1;34m\"check the airway (clear/not clear\"\u001b[0m\u001b[1;33m)\u001b[0m\u001b[1;33m\u001b[0m\u001b[1;33m\u001b[0m\u001b[0m\n\u001b[0m\u001b[0;32m      9\u001b[0m                 \u001b[1;32mwhile\u001b[0m  \u001b[0musercheck4\u001b[0m \u001b[1;33m==\u001b[0m \u001b[1;34m\"clear\"\u001b[0m\u001b[1;33m:\u001b[0m\u001b[1;33m\u001b[0m\u001b[1;33m\u001b[0m\u001b[0m\n\u001b[0;32m     10\u001b[0m                     \u001b[0mUsercheck5\u001b[0m \u001b[1;33m=\u001b[0m \u001b[0minput\u001b[0m \u001b[1;33m(\u001b[0m\u001b[1;34m\"check for breathing for 10 seconds (Yes/No)\"\u001b[0m\u001b[1;33m)\u001b[0m\u001b[1;33m\u001b[0m\u001b[1;33m\u001b[0m\u001b[0m\n",
      "\u001b[1;32m~\\AppData\\Roaming\\Python\\Python39\\site-packages\\ipykernel\\kernelbase.py\u001b[0m in \u001b[0;36mraw_input\u001b[1;34m(self, prompt)\u001b[0m\n\u001b[0;32m    846\u001b[0m                 \u001b[1;34m\"raw_input was called, but this frontend does not support input requests.\"\u001b[0m\u001b[1;33m\u001b[0m\u001b[1;33m\u001b[0m\u001b[0m\n\u001b[0;32m    847\u001b[0m             )\n\u001b[1;32m--> 848\u001b[1;33m         return self._input_request(str(prompt),\n\u001b[0m\u001b[0;32m    849\u001b[0m             \u001b[0mself\u001b[0m\u001b[1;33m.\u001b[0m\u001b[0m_parent_ident\u001b[0m\u001b[1;33m,\u001b[0m\u001b[1;33m\u001b[0m\u001b[1;33m\u001b[0m\u001b[0m\n\u001b[0;32m    850\u001b[0m             \u001b[0mself\u001b[0m\u001b[1;33m.\u001b[0m\u001b[0m_parent_header\u001b[0m\u001b[1;33m,\u001b[0m\u001b[1;33m\u001b[0m\u001b[1;33m\u001b[0m\u001b[0m\n",
      "\u001b[1;32m~\\AppData\\Roaming\\Python\\Python39\\site-packages\\ipykernel\\kernelbase.py\u001b[0m in \u001b[0;36m_input_request\u001b[1;34m(self, prompt, ident, parent, password)\u001b[0m\n\u001b[0;32m    890\u001b[0m             \u001b[1;32mexcept\u001b[0m \u001b[0mKeyboardInterrupt\u001b[0m\u001b[1;33m:\u001b[0m\u001b[1;33m\u001b[0m\u001b[1;33m\u001b[0m\u001b[0m\n\u001b[0;32m    891\u001b[0m                 \u001b[1;31m# re-raise KeyboardInterrupt, to truncate traceback\u001b[0m\u001b[1;33m\u001b[0m\u001b[1;33m\u001b[0m\u001b[1;33m\u001b[0m\u001b[0m\n\u001b[1;32m--> 892\u001b[1;33m                 \u001b[1;32mraise\u001b[0m \u001b[0mKeyboardInterrupt\u001b[0m\u001b[1;33m(\u001b[0m\u001b[1;34m\"Interrupted by user\"\u001b[0m\u001b[1;33m)\u001b[0m \u001b[1;32mfrom\u001b[0m \u001b[1;32mNone\u001b[0m\u001b[1;33m\u001b[0m\u001b[1;33m\u001b[0m\u001b[0m\n\u001b[0m\u001b[0;32m    893\u001b[0m             \u001b[1;32mexcept\u001b[0m \u001b[0mException\u001b[0m \u001b[1;32mas\u001b[0m \u001b[0me\u001b[0m\u001b[1;33m:\u001b[0m\u001b[1;33m\u001b[0m\u001b[1;33m\u001b[0m\u001b[0m\n\u001b[0;32m    894\u001b[0m                 \u001b[0mself\u001b[0m\u001b[1;33m.\u001b[0m\u001b[0mlog\u001b[0m\u001b[1;33m.\u001b[0m\u001b[0mwarning\u001b[0m\u001b[1;33m(\u001b[0m\u001b[1;34m\"Invalid Message:\"\u001b[0m\u001b[1;33m,\u001b[0m \u001b[0mexc_info\u001b[0m\u001b[1;33m=\u001b[0m\u001b[1;32mTrue\u001b[0m\u001b[1;33m)\u001b[0m\u001b[1;33m\u001b[0m\u001b[1;33m\u001b[0m\u001b[0m\n",
      "\u001b[1;31mKeyboardInterrupt\u001b[0m: Interrupted by user"
     ]
    }
   ],
   "source": [
    "#Task 1\r\n",
    "#this is sligtly broken but my brain hurts and i can't figure out how to fix it \r\n",
    "Usercheck1 = input (\"Is there any danger that will put you or anyone else in danger? (yes/No) \")\r\n",
    "while Usercheck1 == \"yes\":\r\n",
    "        usercheck2 = input (\"can you remove the danger safley? (yes/No)\")\r\n",
    "        while usercheck2 == \"yes\":\r\n",
    "            usercheck3 = input (\"Check for repsonce- (AVPU)\")\r\n",
    "            while usercheck3 == \"u\":\r\n",
    "                usercheck4 = input (\"check the airway (clear/not clear\")\r\n",
    "                while  usercheck4 == \"clear\":\r\n",
    "                    Usercheck5 = input (\"check for breathing for 10 seconds (Yes/No)\")\r\n",
    "                    while Usercheck5 == \"no\":\r\n",
    "                         print (\"start CPR and Phone 999\")\r\n",
    "                    else:\r\n",
    "                        print (\"Place them in the recovery postion\")\r\n",
    "                        break\r\n",
    "                else:\r\n",
    "                 print (\"clear airway\")\r\n",
    "                 break\r\n",
    "            else: \r\n",
    "             print (\"treat how you see fit\")\r\n",
    "             break\r\n",
    "        else:\r\n",
    "            print(\"keep safe and call 999\")\r\n",
    "            break\r\n",
    "\r\n",
    "\r\n",
    "            \r\n",
    "\r\n",
    "    "
   ]
  },
  {
   "cell_type": "code",
   "execution_count": 55,
   "metadata": {},
   "outputs": [
    {
     "name": "stdout",
     "output_type": "stream",
     "text": [
      "£ 2000\n",
      "£ 1800.0\n",
      "£ 1620.0\n",
      "£ 1458.0\n",
      "£ 1312.2\n",
      "£ 1180.98\n",
      "£ 1062.882\n"
     ]
    }
   ],
   "source": [
    "#Task 2\r\n",
    "def cost(BikeCost,lossPercent):\r\n",
    "    while BikeCost>1000:\r\n",
    "        print('£',BikeCost)\r\n",
    "        BikeCost=BikeCost*lossPercent\r\n",
    "\r\n",
    "cost(2000,0.9)"
   ]
  },
  {
   "cell_type": "code",
   "execution_count": 79,
   "metadata": {},
   "outputs": [],
   "source": [
    "def Pro1(user_input_num1,user_input_num2):\r\n",
    "    if user_input_operator == str(\"add\"):\r\n",
    "        print(user_input_num1,\"+\", user_input_num2, \"=\", user_input_num1 + user_input_num2 )\r\n",
    "    elif user_input_operator == str(\"subtract\"):\r\n",
    "        print(user_input_num1,\"-\", user_input_num2, \"=\", user_input_num1 - user_input_num2 )\r\n",
    "    elif user_input_operator == str(\"divide\"):\r\n",
    "        print(user_input_num1,\"/\", user_input_num2, \"=\", user_input_num1 / user_input_num2 )\r\n",
    "    elif user_input_operator == str(\"multiply \"):\r\n",
    "        print(user_input_num1,\"*\", user_input_num2, \"=\", user_input_num1 * user_input_num2 )\r\n",
    "    else :\r\n",
    "        print(\"please make sure you check your spelling and cases, and make sure you have picked one of the options\")\r\n"
   ]
  },
  {
   "cell_type": "code",
   "execution_count": 80,
   "metadata": {},
   "outputs": [],
   "source": [
    "user_input_num1 =int(input(\"Pick a number\"))\r\n",
    "user_input_num2 =int(input(\"Pick another number\"))\r\n",
    "user_input_operator = str(input(\"what would you like to do with these numbers? add, subtract, divide, multiply (Case sensative)\"))\r\n"
   ]
  },
  {
   "cell_type": "code",
   "execution_count": 81,
   "metadata": {},
   "outputs": [
    {
     "name": "stdout",
     "output_type": "stream",
     "text": [
      "4 + 5 = 9\n"
     ]
    }
   ],
   "source": [
    "Pro1(user_input_num1,user_input_num2)"
   ]
  }
 ],
 "metadata": {
  "interpreter": {
   "hash": "7ba9343bb3d3d10ab8b3c68195b43076d7ec80148804293f5c4cbf904ded1e5c"
  },
  "kernelspec": {
   "display_name": "Python 3.9.5 64-bit",
   "name": "python3"
  },
  "language_info": {
   "codemirror_mode": {
    "name": "ipython",
    "version": 3
   },
   "file_extension": ".py",
   "mimetype": "text/x-python",
   "name": "python",
   "nbconvert_exporter": "python",
   "pygments_lexer": "ipython3",
   "version": "3.9.5"
  },
  "orig_nbformat": 4
 },
 "nbformat": 4,
 "nbformat_minor": 2
}