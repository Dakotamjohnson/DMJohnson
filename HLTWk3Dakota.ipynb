{
 "cells": [
  {
   "cell_type": "code",
   "execution_count": 2,
   "source": [
    "numbers = [3,45,83,21]"
   ],
   "outputs": [],
   "metadata": {
    "dotnet_interactive": {
     "language": "csharp"
    }
   }
  },
  {
   "cell_type": "code",
   "execution_count": 16,
   "source": [
    "def MarkGrade (Mark,TargetMark):\r\n",
    "    if Mark >= \"94\":\r\n",
    "        print (\"Your Grade is a 9\")\r\n",
    "    elif Mark >=\"88\":\r\n",
    "        print (\"Your Grade is a 8\")\r\n",
    "    elif Mark >=\"78\":\r\n",
    "        print (\"Your Grade is a 7\")\r\n",
    "    elif Mark >=\"70\":\r\n",
    "        print (\"Your Grade is a 6\")\r\n",
    "    elif Mark >=\"62\":\r\n",
    "        print (\"Your Grade is a 5\")\r\n",
    "    elif Mark >=\"52\":\r\n",
    "        print (\"Your Grade is a 4\")\r\n",
    "    elif Mark >=\"40\":\r\n",
    "        print (\"Your Grade is a 3\")\r\n",
    "    elif Mark >=\"31\":\r\n",
    "        print (\"Your Grade is a 2\")\r\n",
    "    elif Mark >=\"23\" \r\n",
    "        print (\"Your Grade is a 1\")\r\n",
    "    else :\r\n",
    "        print (\"You Scored to low to get a grade\")\r\n",
    "    \r\n",
    "\r\n"
   ],
   "outputs": [],
   "metadata": {
    "dotnet_interactive": {
     "language": "csharp"
    }
   }
  },
  {
   "cell_type": "code",
   "execution_count": 17,
   "source": [
    " Mark= input (\"What Score did you achieve?\")\r\n",
    " TargetMark = input (\"What was your target grade\")\r\n",
    "\r\n",
    " MarkGrade (Mark,TargetMark)"
   ],
   "outputs": [
    {
     "output_type": "stream",
     "name": "stdout",
     "text": [
      "Your Grade is a 1 and you reaced your target grade\n"
     ]
    }
   ],
   "metadata": {
    "dotnet_interactive": {
     "language": "csharp"
    }
   }
  },
  {
   "cell_type": "code",
   "execution_count": null,
   "source": [
    "import numpy as np"
   ],
   "outputs": [],
   "metadata": {}
  },
  {
   "cell_type": "code",
   "execution_count": null,
   "source": [
    "array =np.arange(1,10,1)\r\n",
    "print (array)"
   ],
   "outputs": [],
   "metadata": {}
  },
  {
   "cell_type": "code",
   "execution_count": null,
   "source": [
    "array2 = np.array([[10 == 10, 8 > 7,6 < 9], [10 == 10, 8 > 7,6 < 9], [10 == 10, 8 > 7,6 < 9]])\r\n",
    "print (array2)"
   ],
   "outputs": [],
   "metadata": {}
  },
  {
   "cell_type": "code",
   "execution_count": null,
   "source": [
    "array3 =np.arange(1,10,2)\r\n",
    "print (array3)"
   ],
   "outputs": [],
   "metadata": {}
  },
  {
   "cell_type": "code",
   "execution_count": null,
   "source": [
    "newarray =array.reshape(3,3)\r\n",
    "print (newarray)"
   ],
   "outputs": [],
   "metadata": {}
  },
  {
   "cell_type": "code",
   "execution_count": null,
   "source": [
    "a = np.arange (0,9).reshape (3,3)  \r\n",
    "b = np.arange (9,18).reshape (3,3)  \r\n",
    "c = np.dot(a,b)\r\n",
    "print(c)"
   ],
   "outputs": [],
   "metadata": {}
  },
  {
   "cell_type": "code",
   "execution_count": 20,
   "source": [
    " a= np.arange (1,10).reshape (3,3)  \r\n",
    " b = np.arange (10,19).reshape (3,3)  \r\n",
    " c = np.dot(a,b)\r\n",
    " print (c)"
   ],
   "outputs": [
    {
     "output_type": "error",
     "ename": "NameError",
     "evalue": "name 'np' is not defined",
     "traceback": [
      "\u001b[1;31m---------------------------------------------------------------------------\u001b[0m",
      "\u001b[1;31mNameError\u001b[0m                                 Traceback (most recent call last)",
      "\u001b[1;32m<ipython-input-20-8c909e2b2daa>\u001b[0m in \u001b[0;36m<module>\u001b[1;34m\u001b[0m\n\u001b[1;32m----> 1\u001b[1;33m \u001b[0ma\u001b[0m\u001b[1;33m=\u001b[0m \u001b[0mnp\u001b[0m\u001b[1;33m.\u001b[0m\u001b[0marange\u001b[0m \u001b[1;33m(\u001b[0m\u001b[1;36m1\u001b[0m\u001b[1;33m,\u001b[0m\u001b[1;36m10\u001b[0m\u001b[1;33m)\u001b[0m\u001b[1;33m.\u001b[0m\u001b[0mreshape\u001b[0m \u001b[1;33m(\u001b[0m\u001b[1;36m3\u001b[0m\u001b[1;33m,\u001b[0m\u001b[1;36m3\u001b[0m\u001b[1;33m)\u001b[0m\u001b[1;33m\u001b[0m\u001b[1;33m\u001b[0m\u001b[0m\n\u001b[0m\u001b[0;32m      2\u001b[0m \u001b[0mb\u001b[0m \u001b[1;33m=\u001b[0m \u001b[0mnp\u001b[0m\u001b[1;33m.\u001b[0m\u001b[0marange\u001b[0m \u001b[1;33m(\u001b[0m\u001b[1;36m10\u001b[0m\u001b[1;33m,\u001b[0m\u001b[1;36m19\u001b[0m\u001b[1;33m)\u001b[0m\u001b[1;33m.\u001b[0m\u001b[0mreshape\u001b[0m \u001b[1;33m(\u001b[0m\u001b[1;36m3\u001b[0m\u001b[1;33m,\u001b[0m\u001b[1;36m3\u001b[0m\u001b[1;33m)\u001b[0m\u001b[1;33m\u001b[0m\u001b[1;33m\u001b[0m\u001b[0m\n\u001b[0;32m      3\u001b[0m \u001b[0mc\u001b[0m \u001b[1;33m=\u001b[0m \u001b[0mnp\u001b[0m\u001b[1;33m.\u001b[0m\u001b[0mdot\u001b[0m\u001b[1;33m(\u001b[0m\u001b[0ma\u001b[0m\u001b[1;33m,\u001b[0m\u001b[0mb\u001b[0m\u001b[1;33m)\u001b[0m\u001b[1;33m\u001b[0m\u001b[1;33m\u001b[0m\u001b[0m\n\u001b[0;32m      4\u001b[0m \u001b[0mprint\u001b[0m \u001b[1;33m(\u001b[0m\u001b[0mc\u001b[0m\u001b[1;33m)\u001b[0m\u001b[1;33m\u001b[0m\u001b[1;33m\u001b[0m\u001b[0m\n",
      "\u001b[1;31mNameError\u001b[0m: name 'np' is not defined"
     ]
    }
   ],
   "metadata": {}
  },
  {
   "cell_type": "code",
   "execution_count": null,
   "source": [
    " a= np.arange (1,10).reshape (3,3)  \r\n",
    " b = np.arange (10,19).reshape (3,3)  \r\n",
    " c = np.dot(a,b)\r\n",
    "sum =np.sum(c)  \r\n",
    "print(sum)"
   ],
   "outputs": [],
   "metadata": {}
  },
  {
   "cell_type": "code",
   "execution_count": null,
   "source": [
    "#1 1 1 2 2 2 3 3 3 1 2 3 1 2 3\r\n",
    "\r\n",
    "ones = np.ones (3)\r\n",
    "array1 = np.array ([1,2,3])\r\n",
    "\r\n",
    "print(ones,ones+1, ones+2, array1, array1)"
   ],
   "outputs": [],
   "metadata": {}
  }
 ],
 "metadata": {
  "interpreter": {
   "hash": "7ba9343bb3d3d10ab8b3c68195b43076d7ec80148804293f5c4cbf904ded1e5c"
  },
  "kernelspec": {
   "display_name": ".NET (C#)",
   "name": ".net-csharp",
   "language": "C#"
  },
  "language_info": {
   "file_extension": ".cs",
   "mimetype": "text/x-csharp",
   "name": "C#",
   "pygments_lexer": "csharp",
   "version": "9.0"
  },
  "orig_nbformat": 4
 },
 "nbformat": 4,
 "nbformat_minor": 2
}