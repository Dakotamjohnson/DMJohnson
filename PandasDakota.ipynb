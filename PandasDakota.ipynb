{
  "nbformat": 4,
  "nbformat_minor": 0,
  "metadata": {
    "colab": {
      "name": "PandasDakota.ipynb",
      "provenance": [],
      "collapsed_sections": [],
      "authorship_tag": "ABX9TyOv/Ic6x7rulji/tp2DjMjJ",
      "include_colab_link": true
    },
    "kernelspec": {
      "name": "python3",
      "display_name": "Python 3"
    },
    "language_info": {
      "name": "python"
    }
  },
  "cells": [
    {
      "cell_type": "markdown",
      "metadata": {
        "id": "view-in-github",
        "colab_type": "text"
      },
      "source": [
        "<a href=\"https://colab.research.google.com/github/Dakotamjohnson/DMJohnson/blob/main/PandasDakota.ipynb\" target=\"_parent\"><img src=\"https://colab.research.google.com/assets/colab-badge.svg\" alt=\"Open In Colab\"/></a>"
      ]
    },
    {
      "cell_type": "code",
      "metadata": {
        "colab": {
          "base_uri": "https://localhost:8080/"
        },
        "id": "n4HJngVNtzI5",
        "outputId": "c6e34d01-10ed-497d-e564-6544d2b43333"
      },
      "source": [
        "import pandas as pd\n",
        "from sklearn.datasets import load_iris\n",
        "\n",
        "data=load_iris()\n",
        "\n",
        "holiday = {\"row\": [1,2,3,4,5,6,7,8,9,10,11,12,13,14,15],\n",
        "          \"Destination\": [\"England\",\"Spain\",\"France\", \n",
        "                          \"Sweden\",\"Germany\",\"USA\",\n",
        "                          \"Canada\",\"Chile\",\"China\",\n",
        "                          \"South Korea\", \"Malasia\",\"Autralia\",\n",
        "                          \"New Zealand\", \"Antartica\",\"Nigreria\"],\n",
        "           \"Score\": [7,6,8,5,9,8,7,8,6,9,7,5,7,8,9],\n",
        "           \"Avg.Star\": [3.81,7.82,9.94,1.47,5.53,6.47,8.35,7.58,3.8,8.2,6.78,5.5,8.54,0.44,5.94],\n",
        "           \"AllInclusiveHotel\": [95,43,63,74,2,8,7,81,79,87,20,12,71,63,87],\n",
        "           \"MostVisitedCity\": [\"London\",\"Barcelona\",\"Paris\",\n",
        "                              \"Stockholm\",\"Berlin\",\"New York City\",\n",
        "                              \"Toronto\",\"Valparaiso\",\"Beijing\",\n",
        "                              \"Seoul\",\"Kuala Lumpur\",\"Sydney\",\n",
        "                              \"Auckland\",\"Drake Passage\",\"Largos\"]}\n",
        "\n",
        "myframe = pd.DataFrame(holiday)\n",
        "\n",
        "print(myframe)\n"
      ],
      "execution_count": 25,
      "outputs": [
        {
          "output_type": "stream",
          "name": "stdout",
          "text": [
            "    row  Destination  Score  Avg.Star  AllInclusiveHotel MostVisitedCity\n",
            "0     1      England      7      3.81                 95          London\n",
            "1     2        Spain      6      7.82                 43       Barcelona\n",
            "2     3       France      8      9.94                 63           Paris\n",
            "3     4       Sweden      5      1.47                 74       Stockholm\n",
            "4     5      Germany      9      5.53                  2          Berlin\n",
            "5     6          USA      8      6.47                  8   New York City\n",
            "6     7       Canada      7      8.35                  7         Toronto\n",
            "7     8        Chile      8      7.58                 81      Valparaiso\n",
            "8     9        China      6      3.80                 79         Beijing\n",
            "9    10  South Korea      9      8.20                 87           Seoul\n",
            "10   11      Malasia      7      6.78                 20    Kuala Lumpur\n",
            "11   12     Autralia      5      5.50                 12          Sydney\n",
            "12   13  New Zealand      7      8.54                 71        Auckland\n",
            "13   14    Antartica      8      0.44                 63   Drake Passage\n",
            "14   15     Nigreria      9      5.94                 87          Largos\n"
          ]
        }
      ]
    },
    {
      "cell_type": "code",
      "metadata": {
        "colab": {
          "base_uri": "https://localhost:8080/"
        },
        "id": "Jtg9tyeC8yim",
        "outputId": "f383f7c1-2232-4d31-d138-221f7f418444"
      },
      "source": [
        "myframe.shape"
      ],
      "execution_count": 13,
      "outputs": [
        {
          "output_type": "execute_result",
          "data": {
            "text/plain": [
              "(15, 6)"
            ]
          },
          "metadata": {},
          "execution_count": 13
        }
      ]
    },
    {
      "cell_type": "code",
      "metadata": {
        "colab": {
          "base_uri": "https://localhost:8080/"
        },
        "id": "urah4kQB1C9v",
        "outputId": "55c797f9-1922-4228-ed28-6d9e2699b979"
      },
      "source": [
        "print(myframe.iloc[3:8])"
      ],
      "execution_count": 12,
      "outputs": [
        {
          "output_type": "stream",
          "name": "stdout",
          "text": [
            "   row Destination  Score  Avg.Star  AllInclusiveHotel MostVisitedCity\n",
            "3    4      Sweden      5      1.47                 74       Stockholm\n",
            "4    5     Germany      9      5.53                  2          Berlin\n",
            "5    6         USA      8      6.47                  8   New York City\n",
            "6    7      Canada      7      8.35                  7         Toronto\n",
            "7    8       Chile      8      7.58                 81      Valparaiso\n"
          ]
        }
      ]
    },
    {
      "cell_type": "code",
      "metadata": {
        "colab": {
          "base_uri": "https://localhost:8080/"
        },
        "id": "baiYeibM8u7T",
        "outputId": "01a2aede-2f4b-4b6c-d0a9-72b696b9e6ac"
      },
      "source": [
        "myframe[\"AllInclusiveHotel\"].mean()"
      ],
      "execution_count": 14,
      "outputs": [
        {
          "output_type": "execute_result",
          "data": {
            "text/plain": [
              "52.8"
            ]
          },
          "metadata": {},
          "execution_count": 14
        }
      ]
    },
    {
      "cell_type": "code",
      "metadata": {
        "colab": {
          "base_uri": "https://localhost:8080/"
        },
        "id": "wQ_SH2_qNac9",
        "outputId": "cd2cb9f3-6c8a-4a45-bfd5-2b76d323fec4"
      },
      "source": [
        "myframe[\"Score\"].max()\n"
      ],
      "execution_count": 42,
      "outputs": [
        {
          "output_type": "execute_result",
          "data": {
            "text/plain": [
              "9"
            ]
          },
          "metadata": {},
          "execution_count": 42
        }
      ]
    },
    {
      "cell_type": "code",
      "metadata": {
        "colab": {
          "base_uri": "https://localhost:8080/"
        },
        "id": "IZDzCTGsOf0O",
        "outputId": "7d82f2e4-17c2-4dbd-82ab-4eb10eebf887"
      },
      "source": [
        "myframe[\"Score\"].min()\n"
      ],
      "execution_count": 41,
      "outputs": [
        {
          "output_type": "execute_result",
          "data": {
            "text/plain": [
              "5"
            ]
          },
          "metadata": {},
          "execution_count": 41
        }
      ]
    },
    {
      "cell_type": "code",
      "metadata": {
        "colab": {
          "base_uri": "https://localhost:8080/"
        },
        "id": "KOgh4K8u9Jkv",
        "outputId": "5b875a28-49bd-4192-8241-e235810ba0a3"
      },
      "source": [
        "myframe[\"Score\"]<8\n"
      ],
      "execution_count": 22,
      "outputs": [
        {
          "output_type": "execute_result",
          "data": {
            "text/plain": [
              "0      True\n",
              "1      True\n",
              "2     False\n",
              "3      True\n",
              "4     False\n",
              "5     False\n",
              "6      True\n",
              "7     False\n",
              "8      True\n",
              "9     False\n",
              "10     True\n",
              "11     True\n",
              "12     True\n",
              "13    False\n",
              "14    False\n",
              "Name: Score, dtype: bool"
            ]
          },
          "metadata": {},
          "execution_count": 22
        }
      ]
    },
    {
      "cell_type": "code",
      "metadata": {
        "colab": {
          "base_uri": "https://localhost:8080/"
        },
        "id": "-rBP0wo29zid",
        "outputId": "2c75b212-924f-4ea5-a3f2-3b30e22c94cb"
      },
      "source": [
        "myframe[\"Score\"]>2"
      ],
      "execution_count": 23,
      "outputs": [
        {
          "output_type": "execute_result",
          "data": {
            "text/plain": [
              "0     True\n",
              "1     True\n",
              "2     True\n",
              "3     True\n",
              "4     True\n",
              "5     True\n",
              "6     True\n",
              "7     True\n",
              "8     True\n",
              "9     True\n",
              "10    True\n",
              "11    True\n",
              "12    True\n",
              "13    True\n",
              "14    True\n",
              "Name: Score, dtype: bool"
            ]
          },
          "metadata": {},
          "execution_count": 23
        }
      ]
    },
    {
      "cell_type": "code",
      "metadata": {
        "colab": {
          "base_uri": "https://localhost:8080/"
        },
        "id": "MnunmSlO93Nh",
        "outputId": "e781012a-4fb5-4eef-d7fa-53d08d915a65"
      },
      "source": [
        "myframe[\"AllInclusiveHotel\"]>9"
      ],
      "execution_count": 24,
      "outputs": [
        {
          "output_type": "execute_result",
          "data": {
            "text/plain": [
              "0      True\n",
              "1      True\n",
              "2      True\n",
              "3      True\n",
              "4     False\n",
              "5     False\n",
              "6     False\n",
              "7      True\n",
              "8      True\n",
              "9      True\n",
              "10     True\n",
              "11     True\n",
              "12     True\n",
              "13     True\n",
              "14     True\n",
              "Name: AllInclusiveHotel, dtype: bool"
            ]
          },
          "metadata": {},
          "execution_count": 24
        }
      ]
    },
    {
      "cell_type": "code",
      "metadata": {
        "colab": {
          "base_uri": "https://localhost:8080/",
          "height": 285
        },
        "id": "aIZZVrqI-DyB",
        "outputId": "e399c3c0-a5fe-476e-b88a-7ded7f79a3e1"
      },
      "source": [
        "myframe.scatter(x=\"score\", y=\"AllInclusiveHotel\" )"
      ],
      "execution_count": 27,
      "outputs": [
        {
          "output_type": "error",
          "ename": "AttributeError",
          "evalue": "ignored",
          "traceback": [
            "\u001b[0;31m---------------------------------------------------------------------------\u001b[0m",
            "\u001b[0;31mAttributeError\u001b[0m                            Traceback (most recent call last)",
            "\u001b[0;32m<ipython-input-27-5916670ed6e9>\u001b[0m in \u001b[0;36m<module>\u001b[0;34m()\u001b[0m\n\u001b[0;32m----> 1\u001b[0;31m \u001b[0mmyframe\u001b[0m\u001b[0;34m.\u001b[0m\u001b[0mscatter\u001b[0m\u001b[0;34m(\u001b[0m\u001b[0mx\u001b[0m\u001b[0;34m=\u001b[0m\u001b[0;34m\"score\"\u001b[0m\u001b[0;34m,\u001b[0m \u001b[0my\u001b[0m\u001b[0;34m=\u001b[0m\u001b[0;34m\"AllInclusiveHotel\"\u001b[0m \u001b[0;34m)\u001b[0m\u001b[0;34m\u001b[0m\u001b[0;34m\u001b[0m\u001b[0m\n\u001b[0m",
            "\u001b[0;32m/usr/local/lib/python3.7/dist-packages/pandas/core/generic.py\u001b[0m in \u001b[0;36m__getattr__\u001b[0;34m(self, name)\u001b[0m\n\u001b[1;32m   5139\u001b[0m             \u001b[0;32mif\u001b[0m \u001b[0mself\u001b[0m\u001b[0;34m.\u001b[0m\u001b[0m_info_axis\u001b[0m\u001b[0;34m.\u001b[0m\u001b[0m_can_hold_identifiers_and_holds_name\u001b[0m\u001b[0;34m(\u001b[0m\u001b[0mname\u001b[0m\u001b[0;34m)\u001b[0m\u001b[0;34m:\u001b[0m\u001b[0;34m\u001b[0m\u001b[0;34m\u001b[0m\u001b[0m\n\u001b[1;32m   5140\u001b[0m                 \u001b[0;32mreturn\u001b[0m \u001b[0mself\u001b[0m\u001b[0;34m[\u001b[0m\u001b[0mname\u001b[0m\u001b[0;34m]\u001b[0m\u001b[0;34m\u001b[0m\u001b[0;34m\u001b[0m\u001b[0m\n\u001b[0;32m-> 5141\u001b[0;31m             \u001b[0;32mreturn\u001b[0m \u001b[0mobject\u001b[0m\u001b[0;34m.\u001b[0m\u001b[0m__getattribute__\u001b[0m\u001b[0;34m(\u001b[0m\u001b[0mself\u001b[0m\u001b[0;34m,\u001b[0m \u001b[0mname\u001b[0m\u001b[0;34m)\u001b[0m\u001b[0;34m\u001b[0m\u001b[0;34m\u001b[0m\u001b[0m\n\u001b[0m\u001b[1;32m   5142\u001b[0m \u001b[0;34m\u001b[0m\u001b[0m\n\u001b[1;32m   5143\u001b[0m     \u001b[0;32mdef\u001b[0m \u001b[0m__setattr__\u001b[0m\u001b[0;34m(\u001b[0m\u001b[0mself\u001b[0m\u001b[0;34m,\u001b[0m \u001b[0mname\u001b[0m\u001b[0;34m:\u001b[0m \u001b[0mstr\u001b[0m\u001b[0;34m,\u001b[0m \u001b[0mvalue\u001b[0m\u001b[0;34m)\u001b[0m \u001b[0;34m->\u001b[0m \u001b[0;32mNone\u001b[0m\u001b[0;34m:\u001b[0m\u001b[0;34m\u001b[0m\u001b[0;34m\u001b[0m\u001b[0m\n",
            "\u001b[0;31mAttributeError\u001b[0m: 'DataFrame' object has no attribute 'scatter'"
          ]
        }
      ]
    },
    {
      "cell_type": "code",
      "metadata": {
        "id": "a3QpT9MWMuDG"
      },
      "source": [
        ""
      ],
      "execution_count": null,
      "outputs": []
    }
  ]
}